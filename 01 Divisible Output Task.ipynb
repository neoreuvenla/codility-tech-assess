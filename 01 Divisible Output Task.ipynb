{
 "cells": [
  {
   "cell_type": "markdown",
   "id": "5af2561c",
   "metadata": {},
   "source": [
    "# 0.0 Abridged Brief"
   ]
  },
  {
   "cell_type": "markdown",
   "id": "2cabc419",
   "metadata": {},
   "source": [
    "Write a function that, given a positive integer N, prints the consecutive numbers from 1 to N, each on a separate line. However, any number divisible by 2, 3, or 5 should be replaced by the word \"Codility\", \"Test\", or \"Coders\" respectively.\n",
    "\n",
    "If a number is divisible by more than one of the numbers: 2, 3, or 5, it should be replaced by a concatenation of the respective words: \"Codility\", \"Test,\" and \"Coders\", in that order."
   ]
  },
  {
   "cell_type": "markdown",
   "id": "6b01755f",
   "metadata": {},
   "source": [
    "# 1.0 Solution"
   ]
  },
  {
   "cell_type": "code",
   "execution_count": 6,
   "id": "df0bc432",
   "metadata": {},
   "outputs": [],
   "source": [
    "def solution(N):\n",
    "    \n",
    "    start = 1\n",
    "    \n",
    "    while start <= N:\n",
    "        \n",
    "        output = []\n",
    "        \n",
    "        if (start % 2) == 0:\n",
    "            output.append(\"Codility\")\n",
    "        if (start % 3) == 0:\n",
    "            output.append(\"Test\")\n",
    "        if (start % 5) == 0:\n",
    "            output.append(\"Coders\")\n",
    "        if len(output) == 0:\n",
    "            output.append(start)\n",
    "            \n",
    "        print (''.join(str(v) for v in output))\n",
    "            \n",
    "        start+=1"
   ]
  },
  {
   "cell_type": "markdown",
   "id": "8f454bf6",
   "metadata": {},
   "source": [
    "# 2.0 Tests"
   ]
  },
  {
   "cell_type": "code",
   "execution_count": 7,
   "id": "c67e5be0",
   "metadata": {},
   "outputs": [
    {
     "name": "stdout",
     "output_type": "stream",
     "text": [
      "1\n",
      "Codility\n",
      "Test\n",
      "Codility\n",
      "Coders\n",
      "CodilityTest\n",
      "7\n",
      "Codility\n",
      "Test\n",
      "CodilityCoders\n",
      "11\n",
      "CodilityTest\n",
      "13\n",
      "Codility\n",
      "TestCoders\n",
      "Codility\n",
      "17\n",
      "CodilityTest\n",
      "19\n",
      "CodilityCoders\n",
      "Test\n",
      "Codility\n",
      "23\n",
      "CodilityTest\n"
     ]
    }
   ],
   "source": [
    "solution(24)"
   ]
  }
 ],
 "metadata": {
  "kernelspec": {
   "display_name": "Python 3 (ipykernel)",
   "language": "python",
   "name": "python3"
  },
  "language_info": {
   "codemirror_mode": {
    "name": "ipython",
    "version": 3
   },
   "file_extension": ".py",
   "mimetype": "text/x-python",
   "name": "python",
   "nbconvert_exporter": "python",
   "pygments_lexer": "ipython3",
   "version": "3.9.7"
  }
 },
 "nbformat": 4,
 "nbformat_minor": 5
}
