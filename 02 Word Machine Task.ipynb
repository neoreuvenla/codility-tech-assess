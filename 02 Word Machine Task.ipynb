{
 "cells": [
  {
   "cell_type": "markdown",
   "id": "52bd1f8e",
   "metadata": {},
   "source": [
    "# 0.0 Abridged Brief"
   ]
  },
  {
   "cell_type": "markdown",
   "id": "0abf1647",
   "metadata": {},
   "source": [
    "A word machine is a system that performs a sequence of simple operations on a stack of integers. The sequence of operations is given as a string and operations are separated by single spaces. The following operations may be specified: \n",
    "- Any integers between 0 and 2 ** 20 − 1 is pushed into the stack \n",
    "- \"POP removes the top most number from the stack \n",
    "- \"DUP\" pushes a duplicate of the top most number into the stack\n",
    "- \"+\" pops the two top most elements from the stack, adds them together, and pushes the sum into the stack \n",
    "- \"-\" pops the two top most elements from the stack, subtracts the second one from the first, and pushes the difference onto the stack\n",
    "\n",
    "After processing all the operations, the machine returns the topmost value from the stack."
   ]
  },
  {
   "cell_type": "markdown",
   "id": "e44d3049",
   "metadata": {},
   "source": [
    "# 1.0 Solution"
   ]
  },
  {
   "cell_type": "code",
   "execution_count": 196,
   "id": "d7c15bf1",
   "metadata": {},
   "outputs": [],
   "source": [
    "def solution(S):\n",
    "\n",
    "    stack = []\n",
    "\n",
    "    for i in S.split(\" \"):  # splits string on single spaces\n",
    "\n",
    "        if i.isdigit():\n",
    "            stack.append(int(i))  # pushes list item into the stack if a number\n",
    "\n",
    "        elif i == \"POP\" and len(stack) > 0:  # check list isnt empty\n",
    "            stack.pop()  # pops top most number from the stack\n",
    "\n",
    "        elif i == \"DUP\" and len(stack) > 0:  # check list isnt empty\n",
    "            stack.append(stack[-1])  # pushes a duplicate of the topmost number into the stack\n",
    "\n",
    "        elif i == \"+\" and len(stack) > 1 and (stack[-1] + stack[-2]) <= ((2 ** 20) - 1):  # valid value checks\n",
    "            sum_top_two = stack[-1] + stack[-2]\n",
    "\n",
    "            stack.pop()  # pops the top most numbers after addition\n",
    "            stack.pop()\n",
    "\n",
    "            stack.append(sum_top_two)  # pushes result into the stack\n",
    "\n",
    "        elif i == \"-\" and (len(stack) > 1) and ((stack[-1] - stack[-2]) > 0):  # valid value checks\n",
    "            sub_top_two = stack[-1] - stack[-2]\n",
    "\n",
    "            stack.pop()  # pops the top most numbers after subtraction\n",
    "            stack.pop()\n",
    "\n",
    "            stack.append(sub_top_two)  # pushes result into the stack\n",
    "\n",
    "        else:\n",
    "            return -1  # return an error indicating number\n",
    "\n",
    "    return stack[-1]  # returns top most number in the post loop stack"
   ]
  },
  {
   "cell_type": "markdown",
   "id": "8f454bf6",
   "metadata": {},
   "source": [
    "# 2.0 Tests"
   ]
  },
  {
   "cell_type": "code",
   "execution_count": 205,
   "id": "c67e5be0",
   "metadata": {},
   "outputs": [
    {
     "name": "stdout",
     "output_type": "stream",
     "text": [
      "Pass\n",
      "Pass\n",
      "Pass\n",
      "Pass\n",
      "Pass\n"
     ]
    }
   ],
   "source": [
    "test_strings = [\"4 5 6 - 7 +\", \"13 DUP 4 POP 5 DUP + DUP + -\", \"5 6 + -\", \"3 DUP 5 - -\", \"1048575 DUP +\"]\n",
    "test_answers = [8, 7, -1, -1, -1]\n",
    "\n",
    "i = 0\n",
    "\n",
    "for string in test_strings:\n",
    "    if solution(string) == test_answers[i]:\n",
    "        print(\"Pass\")\n",
    "\n",
    "    else:\n",
    "        print(\"Fail\")\n",
    "\n",
    "    i += 1"
   ]
  }
 ],
 "metadata": {
  "kernelspec": {
   "display_name": "Python 3 (ipykernel)",
   "language": "python",
   "name": "python3"
  },
  "language_info": {
   "codemirror_mode": {
    "name": "ipython",
    "version": 3
   },
   "file_extension": ".py",
   "mimetype": "text/x-python",
   "name": "python",
   "nbconvert_exporter": "python",
   "pygments_lexer": "ipython3",
   "version": "3.9.7"
  }
 },
 "nbformat": 4,
 "nbformat_minor": 5
}
